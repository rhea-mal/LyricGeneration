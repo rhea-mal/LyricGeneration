{
 "cells": [
  {
   "cell_type": "code",
   "execution_count": 27,
   "metadata": {},
   "outputs": [],
   "source": [
    "from datasets import load_dataset\n",
    "import pandas as pd\n",
    "import os\n",
    "\n",
    "#dataset = load_dataset(\"maharshipandya/spotify-tracks-dataset\")"
   ]
  },
  {
   "cell_type": "code",
   "execution_count": 28,
   "metadata": {},
   "outputs": [
    {
     "name": "stdout",
     "output_type": "stream",
     "text": [
      "Dataset combined and saved.\n"
     ]
    }
   ],
   "source": [
    "lyrics1_path = 'lyrics1_dataset.csv'\n",
    "lyrics2_folder_path = 'lyrics2_dataset'\n",
    "\n",
    "no_lyrics_text = \"lyrics for this song have yet to be released please check back once the song has been released\"\n",
    "\n",
    "# Read the first dataset\n",
    "df_master = pd.read_csv(lyrics1_path, usecols=['Artist Name', 'Song Name', 'Lyrics'])\n",
    "#df_master['Lyrics'] = df_temp['Lyrics'].str.replace(',', '')\n",
    "df_master.columns = ['Artist', 'Title', 'Lyrics']  # Standardize column names\n",
    "\n",
    "# Iterate through each CSV file in the lyrics2_dataset folder\n",
    "for file in os.listdir(lyrics2_folder_path):\n",
    "    file_path = os.path.join(lyrics2_folder_path, file)\n",
    "    if os.path.isfile(file_path) and file_path.endswith('.csv'):\n",
    "        # Read the dataset\n",
    "        df_temp = pd.read_csv(file_path, usecols=['Artist', 'Title', 'Lyric'])\n",
    "\n",
    "        # Filter out rows with no lyrics\n",
    "        df_temp = df_temp.loc[~df_temp['Lyric'].str.contains(no_lyrics_text, case=False, na=False)]\n",
    "        \n",
    "        df_temp.columns = ['Artist', 'Title', 'Lyrics']  # Standardize column names\n",
    "\n",
    "        # Concatenate with the master DataFrame\n",
    "        df_master = pd.concat([df_master, df_temp], ignore_index=True)\n",
    "\n",
    "        # Remove commas from lyrics\n",
    "        df_master['Lyrics'] = df_master['Lyrics'].str.replace(',', '')\n",
    "\n",
    "output_path = 'combined_lyrics_dataset.csv'\n",
    "df_master.to_csv(output_path, index=False)\n",
    "\n",
    "print(\"Dataset combined and saved.\")"
   ]
  },
  {
   "cell_type": "code",
   "execution_count": 8,
   "metadata": {},
   "outputs": [],
   "source": [
    "features_df = pd.read_csv('features_dataset.csv')\n",
    "combined_lyrics_df = df_master\n",
    "features_df['artists'] = features_df['artists'].str.split(';')\n",
    "features_exploded_df = features_df.explode('artists')\n",
    "\n",
    "#merged_df = pd.merge(combined_lyrics_df, features_exploded_df, left_on=['Artist', 'Title'], right_on=['artists', 'track_name'])\n",
    "merged_df = pd.merge(combined_lyrics_df, features_exploded_df, left_on=['Title'], right_on=['track_name'])\n",
    "\n",
    "# Selecting columns for the final merged dataset\n",
    "final_columns = ['Artist', 'Title', 'Lyrics', 'track_id', 'popularity', 'duration_ms', 'explicit', \n",
    "                 'danceability', 'energy', 'key', 'loudness', 'mode', 'speechiness', 'acousticness', \n",
    "                 'instrumentalness', 'liveness', 'valence', 'tempo', 'time_signature', 'track_genre']\n",
    "final_merged_df = merged_df[final_columns]\n",
    "\n",
    "final_merged_df.to_csv('final_lyrics_features_combined.csv', index=False)\n"
   ]
  },
  {
   "cell_type": "code",
   "execution_count": 9,
   "metadata": {},
   "outputs": [],
   "source": [
    "## this is not working bruh\n",
    "\n",
    "final_merged_df = final_merged_df.drop_duplicates(subset=['Artist', 'Title'], keep='first')\n",
    "final_merged_df.to_csv('final_lyrics_features_combined.csv', index=False)"
   ]
  }
 ],
 "metadata": {
  "kernelspec": {
   "display_name": "Python 3",
   "language": "python",
   "name": "python3"
  },
  "language_info": {
   "codemirror_mode": {
    "name": "ipython",
    "version": 3
   },
   "file_extension": ".py",
   "mimetype": "text/x-python",
   "name": "python",
   "nbconvert_exporter": "python",
   "pygments_lexer": "ipython3",
   "version": "3.11.8"
  }
 },
 "nbformat": 4,
 "nbformat_minor": 2
}
