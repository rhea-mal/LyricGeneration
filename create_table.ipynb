{
 "cells": [
  {
   "cell_type": "code",
   "execution_count": 3,
   "metadata": {},
   "outputs": [],
   "source": [
    "from datasets import load_dataset\n",
    "import pandas as pd\n",
    "import os\n",
    "\n",
    "#dataset = load_dataset(\"maharshipandya/spotify-tracks-dataset\")"
   ]
  },
  {
   "cell_type": "code",
   "execution_count": 4,
   "metadata": {},
   "outputs": [
    {
     "ename": "FileNotFoundError",
     "evalue": "[Errno 2] No such file or directory: 'lyrics2_dataset'",
     "output_type": "error",
     "traceback": [
      "\u001b[0;31m---------------------------------------------------------------------------\u001b[0m",
      "\u001b[0;31mFileNotFoundError\u001b[0m                         Traceback (most recent call last)",
      "Cell \u001b[0;32mIn[4], line 9\u001b[0m\n\u001b[1;32m      6\u001b[0m df_master\u001b[38;5;241m.\u001b[39mcolumns \u001b[38;5;241m=\u001b[39m [\u001b[38;5;124m'\u001b[39m\u001b[38;5;124mArtist\u001b[39m\u001b[38;5;124m'\u001b[39m, \u001b[38;5;124m'\u001b[39m\u001b[38;5;124mTitle\u001b[39m\u001b[38;5;124m'\u001b[39m, \u001b[38;5;124m'\u001b[39m\u001b[38;5;124mLyrics\u001b[39m\u001b[38;5;124m'\u001b[39m]  \u001b[38;5;66;03m# Standardize column names\u001b[39;00m\n\u001b[1;32m      8\u001b[0m \u001b[38;5;66;03m# Iterate through each CSV file in the lyrics2_dataset folder\u001b[39;00m\n\u001b[0;32m----> 9\u001b[0m \u001b[38;5;28;01mfor\u001b[39;00m file \u001b[38;5;129;01min\u001b[39;00m \u001b[43mos\u001b[49m\u001b[38;5;241;43m.\u001b[39;49m\u001b[43mlistdir\u001b[49m\u001b[43m(\u001b[49m\u001b[43mlyrics2_folder_path\u001b[49m\u001b[43m)\u001b[49m:\n\u001b[1;32m     10\u001b[0m     file_path \u001b[38;5;241m=\u001b[39m os\u001b[38;5;241m.\u001b[39mpath\u001b[38;5;241m.\u001b[39mjoin(lyrics2_folder_path, file)\n\u001b[1;32m     11\u001b[0m     \u001b[38;5;28;01mif\u001b[39;00m os\u001b[38;5;241m.\u001b[39mpath\u001b[38;5;241m.\u001b[39misfile(file_path) \u001b[38;5;129;01mand\u001b[39;00m file_path\u001b[38;5;241m.\u001b[39mendswith(\u001b[38;5;124m'\u001b[39m\u001b[38;5;124m.csv\u001b[39m\u001b[38;5;124m'\u001b[39m):\n\u001b[1;32m     12\u001b[0m         \u001b[38;5;66;03m# Read the dataset\u001b[39;00m\n",
      "\u001b[0;31mFileNotFoundError\u001b[0m: [Errno 2] No such file or directory: 'lyrics2_dataset'"
     ]
    }
   ],
   "source": [
    "lyrics1_path = 'lyrics1_dataset.csv'\n",
    "lyrics2_folder_path = 'lyrics2_dataset'\n",
    "\n",
    "# Read the first dataset\n",
    "df_master = pd.read_csv(lyrics1_path, usecols=['Artist Name', 'Song Name', 'Lyrics'])\n",
    "df_master.columns = ['Artist', 'Title', 'Lyrics']  # Standardize column names\n",
    "\n",
    "# Iterate through each CSV file in the lyrics2_dataset folder\n",
    "for file in os.listdir(lyrics2_folder_path):\n",
    "    file_path = os.path.join(lyrics2_folder_path, file)\n",
    "    if os.path.isfile(file_path) and file_path.endswith('.csv'):\n",
    "        # Read the dataset\n",
    "        df_temp = pd.read_csv(file_path, usecols=['Artist', 'Title', 'Lyric'])\n",
    "        df_temp.columns = ['Artist', 'Title', 'Lyrics']  # Standardize column names\n",
    "        \n",
    "        # Concatenate with the master DataFrame\n",
    "        df_master = pd.concat([df_master, df_temp], ignore_index=True)\n",
    "\n",
    "# Optional: Export the concatenated DataFrame to a new CSV file\n",
    "output_path = 'combined_lyrics_dataset.csv'\n",
    "df_master.to_csv(output_path, index=False)\n",
    "\n",
    "print(\"Dataset combined and saved.\")"
   ]
  },
  {
   "cell_type": "code",
   "execution_count": 6,
   "metadata": {},
   "outputs": [],
   "source": [
    "features_df = pd.read_csv('features_dataset.csv')\n",
    "combined_lyrics_df = df_master\n",
    "features_df['artists'] = features_df['artists'].str.split(';')\n",
    "features_exploded_df = features_df.explode('artists')\n",
    "\n",
    "# Merge the datasets on artist names and track names\n",
    "# Assuming 'track_name' in features dataset corresponds to 'Title' in lyrics dataset\n",
    "#merged_df = pd.merge(combined_lyrics_df, features_exploded_df, left_on=['Artist', 'Title'], right_on=['artists', 'track_name'])\n",
    "merged_df = pd.merge(combined_lyrics_df, features_exploded_df, left_on=['Title'], right_on=['track_name'])\n",
    "\n",
    "# Selecting columns for the final merged dataset\n",
    "final_columns = ['Artist', 'Title', 'Lyrics', 'track_id', 'popularity', 'duration_ms', 'explicit', \n",
    "                 'danceability', 'energy', 'key', 'loudness', 'mode', 'speechiness', 'acousticness', \n",
    "                 'instrumentalness', 'liveness', 'valence', 'tempo', 'time_signature', 'track_genre']\n",
    "final_merged_df = merged_df[final_columns]\n",
    "\n",
    "# You can now save this DataFrame to a CSV or perform further analysis\n",
    "final_merged_df.to_csv('final_lyrics_features_combined.csv', index=False)\n"
   ]
  },
  {
   "cell_type": "code",
   "execution_count": 7,
   "metadata": {},
   "outputs": [],
   "source": [
    "## this is not working bruh\n",
    "\n",
    "final_merged_df = final_merged_df.drop_duplicates(subset=['Artist', 'Title'], keep='first')\n",
    "final_merged_df.to_csv('final_lyrics_features_combined.csv', index=False)"
   ]
  }
 ],
 "metadata": {
  "kernelspec": {
   "display_name": "Python 3",
   "language": "python",
   "name": "python3"
  },
  "language_info": {
   "codemirror_mode": {
    "name": "ipython",
    "version": 3
   },
   "file_extension": ".py",
   "mimetype": "text/x-python",
   "name": "python",
   "nbconvert_exporter": "python",
   "pygments_lexer": "ipython3",
   "version": "3.11.5"
  }
 },
 "nbformat": 4,
 "nbformat_minor": 2
}
